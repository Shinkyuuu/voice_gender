{
 "cells": [
  {
   "cell_type": "code",
   "execution_count": 1,
   "metadata": {},
   "outputs": [],
   "source": [
    "import librosa\n",
    "import numpy as np\n",
    "from scipy.stats import skew"
   ]
  },
  {
   "cell_type": "code",
   "execution_count": 7,
   "metadata": {},
   "outputs": [],
   "source": [
    "def compute_audio_freq(y):\n",
    "    f0, voiced_flag, voiced_probs = librosa.pyin(y, fmin=librosa.note_to_hz('C2'), fmax=librosa.note_to_hz('C7'))\n",
    "    return [f for f in f0 if str(f) != 'nan']"
   ]
  },
  {
   "cell_type": "code",
   "execution_count": 8,
   "metadata": {},
   "outputs": [
    {
     "name": "stdout",
     "output_type": "stream",
     "text": [
      "[105.64102395561046, 105.03257643014581, 104.42763330455712, 103.82617439498627, 105.03257643014581, 108.1102658399776, 112.57112811964524, 114.5388367788287, 109.99999999999999, 115.86971395503193, 117.89508087899223, 117.89508087899223, 117.89508087899223, 118.57804013471404, 105.64102395561046, 142.65235101161107, 138.59131548843604, 136.9994584594705, 131.5705733911144, 122.05264192746294, 115.86971395503193, 119.26495573315601, 121.34967043801211, 121.34967043801211, 122.05264192746294, 122.75968568932456, 122.75968568932456, 121.34967043801211, 113.87914162255151, 122.05264192746294, 113.22324603078411, 113.22324603078411, 113.22324603078411, 113.87914162255151, 111.9227661312955, 97.99885899543732, 122.75968568932456, 121.34967043801211, 119.26495573315601, 114.5388367788287, 112.57112811964524, 109.99999999999999, 106.86851352689665, 103.82617439498627, 103.22817963382575, 103.22817963382575, 102.63362906904881, 101.45478129445331, 100.87044475251382, 98.56656061031477, 131.5705733911144, 112.57112811964524, 113.22324603078411, 113.22324603078411, 113.22324603078411, 130.0593564629863, 127.82501456536235, 122.75968568932456, 119.95585059317834, 115.86971395503193, 122.05264192746294, 120.65074776640884, 117.21605517913326, 98.56656061031477, 103.82617439498627, 120.65074776640884, 110.63722351746388, 111.9227661312955, 113.87914162255151, 114.5388367788287, 114.5388367788287, 133.09934981412218, 114.5388367788287, 113.22324603078411, 111.9227661312955, 111.27813843321147, 103.82617439498627, 114.5388367788287, 115.20235351026894, 115.20235351026894, 115.20235351026894, 109.36644661993022, 118.57804013471404, 117.89508087899223, 115.86971395503193, 112.57112811964524, 108.73654223881857, 123.47082531403103, 115.86971395503193, 113.87914162255151, 114.5388367788287, 115.20235351026894, 112.57112811964524, 106.86851352689665, 111.9227661312955, 111.9227661312955, 109.99999999999999, 108.73654223881857, 108.1102658399776, 108.1102658399776, 107.48759652776705, 103.82617439498627, 92.4986056779086, 113.22324603078411, 105.03257643014581, 105.64102395561046, 105.03257643014581, 103.82617439498627, 103.82617439498627, 103.82617439498627, 103.82617439498627, 108.1102658399776, 108.1102658399776, 106.86851352689665, 106.252996181733, 126.35681904967383, 111.27813843321147, 93.57338770459413, 97.99885899543732, 99.13755088719131, 99.71184887709214, 98.56656061031477, 98.56656061031477, 99.13755088719131, 99.13755088719131, 108.1102658399776, 107.48759652776705, 105.64102395561046, 103.82617439498627, 100.28947374140385, 96.87324609557632, 102.63362906904881, 100.28947374140385, 99.13755088719131, 97.99885899543732, 93.03444464945933, 100.87044475251382, 101.45478129445331, 101.45478129445331, 101.45478129445331, 97.99885899543732, 106.86851352689665, 102.04250286354403, 101.45478129445331, 100.28947374140385, 99.13755088719131, 98.56656061031477, 99.71184887709214, 97.43442710125966, 96.31529725464738, 95.76056196257365, 95.20902171067573, 95.20902171067573, 95.20902171067573, 95.20902171067573, 94.6606580968763, 88.83315834800462, 93.57338770459413, 93.03444464945933, 91.43616857570666, 91.43616857570666, 117.89508087899223, 105.64102395561046, 106.252996181733, 106.86851352689665, 111.9227661312955, 115.20235351026894, 117.89508087899223, 119.26495573315601, 119.95585059317834, 120.65074776640884, 125.62905732418486, 128.565497341737, 130.0593564629863, 130.0593564629863, 130.0593564629863, 128.565497341737, 127.08879665595002, 130.0593564629863, 115.86971395503193, 113.22324603078411, 113.87914162255151, 114.5388367788287, 112.57112811964524, 108.1102658399776, 106.252996181733, 105.64102395561046, 106.86851352689665, 106.86851352689665, 105.03257643014581, 103.82617439498627, 101.45478129445331, 96.87324609557632, 90.38593460443693, 103.22817963382575, 104.42763330455712, 105.03257643014581, 105.03257643014581, 104.42763330455712, 102.63362906904881, 114.5388367788287, 105.03257643014581, 103.22817963382575, 102.63362906904881, 100.28947374140385, 99.71184887709214, 106.86851352689665, 103.22817963382575, 100.87044475251382, 99.71184887709214, 99.13755088719131, 95.76056196257365, 94.6606580968763, 100.87044475251382, 99.71184887709214, 97.43442710125966, 93.03444464945933, 94.6606580968763, 93.57338770459413, 93.57338770459413, 93.57338770459413, 94.11545282508624, 94.6606580968763, 94.6606580968763, 94.11545282508624, 93.57338770459413, 93.03444464945933, 92.4986056779086, 92.4986056779086, 94.11545282508624, 91.96585291173604, 91.43616857570666, 91.43616857570666, 91.43616857570666, 90.38593460443693, 89.86534992826049, 88.32151700497141, 108.73654223881857, 112.57112811964524, 115.20235351026894, 117.89508087899223, 117.89508087899223, 117.21605517913326, 113.22324603078411, 110.63722351746388, 126.35681904967383, 126.35681904967383, 126.35681904967383, 124.90548719779652, 124.90548719779652, 124.18608452867444, 123.47082531403103, 121.34967043801211, 115.20235351026894, 133.09934981412218]\n",
      "Skewness of the audio signal: 0.367374204356879\n"
     ]
    }
   ],
   "source": [
    "def compute_audio_skewness(y):\n",
    "    skewness = skew(y)\n",
    "    \n",
    "    return skewness\n",
    "\n",
    "# Example usage\n",
    "audio_file = 'output.wav'\n",
    "y, sr = librosa.load(audio_file)\n",
    "frequencies = compute_audio_freq(y)\n",
    "print(frequencies)\n",
    "skewness = compute_audio_skewness(frequencies)\n",
    "print(f\"Skewness of the audio signal: {skewness}\")\n"
   ]
  },
  {
   "cell_type": "code",
   "execution_count": 29,
   "metadata": {},
   "outputs": [
    {
     "name": "stdout",
     "output_type": "stream",
     "text": [
      "mean       : 2324.311783712007\n",
      "sd         : 2398.3372609301687\n",
      "median     : 1259.04638671875\n",
      "mode       : 105.08203125\n",
      "Q25        : 645.99609375\n",
      "Q75        : 3437.452880859375\n",
      "IQR        : 2791.456787109375\n",
      "skew       : 3.615648780127185\n",
      "kurt       : 19.223696369191003\n",
      "sfm        : 0.01844765990972519\n",
      "0.006725096744753703\n"
     ]
    },
    {
     "name": "stderr",
     "output_type": "stream",
     "text": [
      "c:\\Users\\Cody\\AppData\\Local\\Programs\\Python\\Python312\\Lib\\site-packages\\librosa\\core\\spectrum.py:257: UserWarning: n_fft=2048 is too large for input signal of length=255\n",
      "  warnings.warn(\n"
     ]
    }
   ],
   "source": [
    "def spectral_properties(y: np.ndarray, fs: int) -> dict:\n",
    "    spec = np.abs(np.fft.rfft(y))\n",
    "    freq = np.fft.rfftfreq(len(y), d=1 / fs)\n",
    "    spec = np.abs(spec)\n",
    "    amp = spec / spec.sum()\n",
    "    mean = (freq * amp).sum()\n",
    "    sd = np.sqrt(np.sum(amp * ((freq - mean) ** 2)))\n",
    "    amp_cumsum = np.cumsum(amp)\n",
    "    median = freq[len(amp_cumsum[amp_cumsum <= 0.5]) + 1]\n",
    "    mode = freq[amp.argmax()]\n",
    "    Q25 = freq[len(amp_cumsum[amp_cumsum <= 0.25]) + 1]\n",
    "    Q75 = freq[len(amp_cumsum[amp_cumsum <= 0.75]) + 1]\n",
    "    IQR = Q75 - Q25\n",
    "    z = amp - amp.mean()\n",
    "    w = amp.std()\n",
    "    skew = ((z ** 3).sum() / (len(spec) - 1)) / w ** 3\n",
    "    kurt = ((z ** 4).sum() / (len(spec) - 1)) / w ** 4\n",
    "    sfm = np.mean(librosa.feature.spectral_flatness(y=y))\n",
    "    result_d = {\n",
    "        'mean': mean,\n",
    "        'sd': sd,\n",
    "        'median': median,\n",
    "        'mode': mode,\n",
    "        'Q25': Q25,\n",
    "        'Q75': Q75,\n",
    "        'IQR': IQR,\n",
    "        'skew': skew,\n",
    "        'kurt': kurt,\n",
    "        'sfm': sfm\n",
    "    }\n",
    "\n",
    "    return result_d\n",
    "audio_file = 'output.wav'\n",
    "y, sr = librosa.load(audio_file)\n",
    "\n",
    "res = spectral_properties(y, sr)\n",
    "for key in res.keys():\n",
    "    print(f\"{key:<10} : {res[key]}\".format())\n",
    "\n",
    "frequencies = np.array(compute_audio_freq(y))\n",
    "\n",
    "sfm = np.mean(librosa.feature.spectral_flatness(y=frequencies))\n",
    "print(sfm)"
   ]
  },
  {
   "cell_type": "code",
   "execution_count": 59,
   "metadata": {},
   "outputs": [
    {
     "name": "stdout",
     "output_type": "stream",
     "text": [
      "(30099,)\n",
      "0\n",
      "16000\n",
      "(41481,)\n",
      "-3.8365743e-06\n",
      "22050\n"
     ]
    },
    {
     "ename": "ParameterError",
     "evalue": "Audio data must be floating-point",
     "output_type": "error",
     "traceback": [
      "\u001b[1;31m---------------------------------------------------------------------------\u001b[0m",
      "\u001b[1;31mParameterError\u001b[0m                            Traceback (most recent call last)",
      "Cell \u001b[1;32mIn[59], line 62\u001b[0m\n\u001b[0;32m     42\u001b[0m   result_d \u001b[38;5;241m=\u001b[39m {\n\u001b[0;32m     43\u001b[0m     \u001b[38;5;124m'\u001b[39m\u001b[38;5;124mmeanfreq\u001b[39m\u001b[38;5;124m'\u001b[39m: mean\u001b[38;5;241m/\u001b[39m\u001b[38;5;241m1000\u001b[39m,\n\u001b[0;32m     44\u001b[0m     \u001b[38;5;124m'\u001b[39m\u001b[38;5;124msd\u001b[39m\u001b[38;5;124m'\u001b[39m: sd\u001b[38;5;241m/\u001b[39m\u001b[38;5;241m1000\u001b[39m,\n\u001b[1;32m   (...)\u001b[0m\n\u001b[0;32m     57\u001b[0m     \u001b[38;5;66;03m# 'centroid': F[3].mean()/1000,\u001b[39;00m\n\u001b[0;32m     58\u001b[0m   }\n\u001b[0;32m     59\u001b[0m   \u001b[38;5;28;01mreturn\u001b[39;00m result_d\n\u001b[1;32m---> 62\u001b[0m res \u001b[38;5;241m=\u001b[39m \u001b[43mspectral_properties\u001b[49m\u001b[43m(\u001b[49m\u001b[38;5;124;43m\"\u001b[39;49m\u001b[38;5;124;43moutput.wav\u001b[39;49m\u001b[38;5;124;43m\"\u001b[39;49m\u001b[43m)\u001b[49m\n\u001b[0;32m     64\u001b[0m \u001b[38;5;28;01mfor\u001b[39;00m key \u001b[38;5;129;01min\u001b[39;00m res\u001b[38;5;241m.\u001b[39mkeys():\n\u001b[0;32m     65\u001b[0m   \u001b[38;5;28mprint\u001b[39m(\u001b[38;5;124mf\u001b[39m\u001b[38;5;124m\"\u001b[39m\u001b[38;5;132;01m{\u001b[39;00mkey\u001b[38;5;132;01m:\u001b[39;00m\u001b[38;5;124m<10\u001b[39m\u001b[38;5;132;01m}\u001b[39;00m\u001b[38;5;124m : \u001b[39m\u001b[38;5;132;01m{\u001b[39;00mres[key]\u001b[38;5;132;01m}\u001b[39;00m\u001b[38;5;124m\"\u001b[39m\u001b[38;5;241m.\u001b[39mformat())\n",
      "Cell \u001b[1;32mIn[59], line 23\u001b[0m, in \u001b[0;36mspectral_properties\u001b[1;34m(file)\u001b[0m\n\u001b[0;32m     20\u001b[0m mindom \u001b[38;5;241m=\u001b[39m max_peak_index \u001b[38;5;241m*\u001b[39m sample_rate \u001b[38;5;241m/\u001b[39m \u001b[38;5;28mlen\u001b[39m(data)\n\u001b[0;32m     22\u001b[0m freq \u001b[38;5;241m=\u001b[39m np\u001b[38;5;241m.\u001b[39mfft\u001b[38;5;241m.\u001b[39mrfftfreq(\u001b[38;5;28mlen\u001b[39m(data), d\u001b[38;5;241m=\u001b[39m\u001b[38;5;241m1\u001b[39m \u001b[38;5;241m/\u001b[39m sample_rate)\n\u001b[1;32m---> 23\u001b[0m freq0, \u001b[38;5;241m=\u001b[39m \u001b[43mlibrosa\u001b[49m\u001b[38;5;241;43m.\u001b[39;49m\u001b[43mpyin\u001b[49m\u001b[43m(\u001b[49m\u001b[43my\u001b[49m\u001b[38;5;241;43m=\u001b[39;49m\u001b[43mdata\u001b[49m\u001b[43m,\u001b[49m\u001b[43m \u001b[49m\u001b[43mfmin\u001b[49m\u001b[38;5;241;43m=\u001b[39;49m\u001b[43mlibrosa\u001b[49m\u001b[38;5;241;43m.\u001b[39;49m\u001b[43mnote_to_hz\u001b[49m\u001b[43m(\u001b[49m\u001b[38;5;124;43m'\u001b[39;49m\u001b[38;5;124;43mC2\u001b[39;49m\u001b[38;5;124;43m'\u001b[39;49m\u001b[43m)\u001b[49m\u001b[43m,\u001b[49m\u001b[43m \u001b[49m\u001b[43mfmax\u001b[49m\u001b[38;5;241;43m=\u001b[39;49m\u001b[43mlibrosa\u001b[49m\u001b[38;5;241;43m.\u001b[39;49m\u001b[43mnote_to_hz\u001b[49m\u001b[43m(\u001b[49m\u001b[38;5;124;43m'\u001b[39;49m\u001b[38;5;124;43mC7\u001b[39;49m\u001b[38;5;124;43m'\u001b[39;49m\u001b[43m)\u001b[49m\u001b[43m)\u001b[49m\n\u001b[0;32m     25\u001b[0m peakf \u001b[38;5;241m=\u001b[39m np\u001b[38;5;241m.\u001b[39margmax(freq) \u001b[38;5;66;03m# unusued\u001b[39;00m\n\u001b[0;32m     26\u001b[0m amp \u001b[38;5;241m=\u001b[39m spec \u001b[38;5;241m/\u001b[39m spec\u001b[38;5;241m.\u001b[39msum()\n",
      "File \u001b[1;32mc:\\Users\\Cody\\AppData\\Local\\Programs\\Python\\Python312\\Lib\\site-packages\\librosa\\core\\pitch.py:788\u001b[0m, in \u001b[0;36mpyin\u001b[1;34m(y, fmin, fmax, sr, frame_length, win_length, hop_length, n_thresholds, beta_parameters, boltzmann_parameter, resolution, max_transition_rate, switch_prob, no_trough_prob, fill_na, center, pad_mode)\u001b[0m\n\u001b[0;32m    785\u001b[0m     hop_length \u001b[38;5;241m=\u001b[39m frame_length \u001b[38;5;241m/\u001b[39m\u001b[38;5;241m/\u001b[39m \u001b[38;5;241m4\u001b[39m\n\u001b[0;32m    787\u001b[0m \u001b[38;5;66;03m# Check that audio is valid.\u001b[39;00m\n\u001b[1;32m--> 788\u001b[0m \u001b[43mutil\u001b[49m\u001b[38;5;241;43m.\u001b[39;49m\u001b[43mvalid_audio\u001b[49m\u001b[43m(\u001b[49m\u001b[43my\u001b[49m\u001b[43m,\u001b[49m\u001b[43m \u001b[49m\u001b[43mmono\u001b[49m\u001b[38;5;241;43m=\u001b[39;49m\u001b[38;5;28;43;01mFalse\u001b[39;49;00m\u001b[43m)\u001b[49m\n\u001b[0;32m    790\u001b[0m \u001b[38;5;66;03m# Pad the time series so that frames are centered\u001b[39;00m\n\u001b[0;32m    791\u001b[0m \u001b[38;5;28;01mif\u001b[39;00m center:\n",
      "File \u001b[1;32mc:\\Users\\Cody\\AppData\\Local\\Programs\\Python\\Python312\\Lib\\site-packages\\librosa\\util\\utils.py:298\u001b[0m, in \u001b[0;36mvalid_audio\u001b[1;34m(y, mono)\u001b[0m\n\u001b[0;32m    295\u001b[0m     \u001b[38;5;28;01mraise\u001b[39;00m ParameterError(\u001b[38;5;124m\"\u001b[39m\u001b[38;5;124mAudio data must be of type numpy.ndarray\u001b[39m\u001b[38;5;124m\"\u001b[39m)\n\u001b[0;32m    297\u001b[0m \u001b[38;5;28;01mif\u001b[39;00m \u001b[38;5;129;01mnot\u001b[39;00m np\u001b[38;5;241m.\u001b[39missubdtype(y\u001b[38;5;241m.\u001b[39mdtype, np\u001b[38;5;241m.\u001b[39mfloating):\n\u001b[1;32m--> 298\u001b[0m     \u001b[38;5;28;01mraise\u001b[39;00m ParameterError(\u001b[38;5;124m\"\u001b[39m\u001b[38;5;124mAudio data must be floating-point\u001b[39m\u001b[38;5;124m\"\u001b[39m)\n\u001b[0;32m    300\u001b[0m \u001b[38;5;28;01mif\u001b[39;00m y\u001b[38;5;241m.\u001b[39mndim \u001b[38;5;241m==\u001b[39m \u001b[38;5;241m0\u001b[39m:\n\u001b[0;32m    301\u001b[0m     \u001b[38;5;28;01mraise\u001b[39;00m ParameterError(\n\u001b[0;32m    302\u001b[0m         \u001b[38;5;124mf\u001b[39m\u001b[38;5;124m\"\u001b[39m\u001b[38;5;124mAudio data must be at least one-dimensional, given y.shape=\u001b[39m\u001b[38;5;132;01m{\u001b[39;00my\u001b[38;5;241m.\u001b[39mshape\u001b[38;5;132;01m}\u001b[39;00m\u001b[38;5;124m\"\u001b[39m\n\u001b[0;32m    303\u001b[0m     )\n",
      "\u001b[1;31mParameterError\u001b[0m: Audio data must be floating-point"
     ]
    }
   ],
   "source": [
    "import numpy as np\n",
    "import librosa\n",
    "from scipy.stats import gmean\n",
    "from scipy.io import wavfile\n",
    "\n",
    "def spectral_properties(file):\n",
    "  sample_rate, data = wavfile.read(file)\n",
    "  y, sr = librosa.load(file)\n",
    "\n",
    "  #F, f_names = audioFeatureExtraction.stFeatureExtraction(data, sample_rate, 0.050*sample_rate, 0.025*sample_rate);\n",
    "  print(data.shape)\n",
    "  print(data[0])\n",
    "  print(sample_rate)\n",
    "  print(y.shape)\n",
    "  print(y[0])\n",
    "  print(sr)\n",
    "  spec = np.abs(np.fft.rfft(data))\n",
    "  magnitude_spectrum = np.abs(np.fft.fft(data))\n",
    "  max_peak_index = np.argmax(magnitude_spectrum)\n",
    "  mindom = max_peak_index * sample_rate / len(data)\n",
    "\n",
    "  freq = np.fft.rfftfreq(len(data), d=1 / sample_rate)\n",
    "  freq0, = librosa.pyin(y=[float(d) for d in data], fmin=librosa.note_to_hz('C2'), fmax=librosa.note_to_hz('C7'))\n",
    "\n",
    "  peakf = np.argmax(freq) # unusued\n",
    "  amp = spec / spec.sum()\n",
    "  mean = (freq * amp).sum()\n",
    "  mean0 = np.nanmean(freq0)\n",
    "  sd = np.sqrt(np.sum(amp * ((freq0 - mean0) ** 2)))\n",
    "  amp_cumsum = np.cumsum(amp)\n",
    "  median = freq[len(amp_cumsum[amp_cumsum <= 0.5]) + 1]\n",
    "  mode = freq[amp.argmax()]\n",
    "  Q25 = freq[len(amp_cumsum[amp_cumsum <= 0.25]) + 1]\n",
    "  Q75 = freq[len(amp_cumsum[amp_cumsum <= 0.75]) + 1]\n",
    "  IQR = Q75 - Q25\n",
    "  z = amp - amp.mean()\n",
    "  w = amp.std()\n",
    "  skew = ((z ** 3).sum() / (len(spec) - 1)) / w ** 3\n",
    "  kurt = ((z ** 4).sum() / (len(spec) - 1)) / w ** 4\n",
    "  spec_flatness = gmean(spec**2)/np.mean(spec**2)\n",
    "\n",
    "  result_d = {\n",
    "    'meanfreq': mean/1000,\n",
    "    'sd': sd/1000,\n",
    "    'median': median/1000,\n",
    "    'Q25': Q25/1000,\n",
    "    'Q75': Q75/1000,\n",
    "    'IQR': IQR/1000,\n",
    "    'skew': skew,\n",
    "    'kurt': kurt,\n",
    "    # 'sp.ent': F[5].mean(),\n",
    "    'sfm': spec_flatness,\n",
    "    'mode': mode/1000,\n",
    "    # 'meandom': meandom/1000,\n",
    "    # 'mindom': mindom/1000,\n",
    "    # 'maxdom': maxdom/1000\n",
    "    # 'centroid': F[3].mean()/1000,\n",
    "  }\n",
    "  return result_d\n",
    "\n",
    "\n",
    "res = spectral_properties(\"output.wav\")\n",
    "\n",
    "for key in res.keys():\n",
    "  print(f\"{key:<10} : {res[key]}\".format())"
   ]
  },
  {
   "cell_type": "code",
   "execution_count": 43,
   "metadata": {},
   "outputs": [
    {
     "name": "stdout",
     "output_type": "stream",
     "text": [
      "Mean Dominant Frequency: 0.7190131578947369 kHz\n",
      "Max Dominant Frequency: 8.225 kHz\n",
      "Min Dominant Frequency: 0.025 kHz\n"
     ]
    }
   ],
   "source": [
    "import numpy as np\n",
    "from scipy.io import wavfile\n",
    "from scipy.fft import rfft, rfftfreq\n",
    "\n",
    "def calculate_frame_dominant_frequency(data, sample_rate):\n",
    "    # Apply FFT and get frequency bins\n",
    "    fft_result = rfft(data)\n",
    "    frequencies = rfftfreq(len(data), 1/sample_rate)\n",
    "    magnitude = np.abs(fft_result)\n",
    "    # Find the dominant frequency in the frame\n",
    "    dominant_frequency = frequencies[np.argmax(magnitude)]\n",
    "    return dominant_frequency\n",
    "\n",
    "def calculate_dominant_frequencies_stats(wav_file, frame_size_ms=40, hop_size_ms=20):\n",
    "    # Read the WAV file\n",
    "    sample_rate, data = wavfile.read(wav_file)\n",
    "    \n",
    "    # If stereo, just use one channel\n",
    "    if len(data.shape) > 1:\n",
    "        data = data[:, 0]\n",
    "    \n",
    "    # Convert frame size and hop size from milliseconds to samples\n",
    "    frame_size = int(sample_rate * (frame_size_ms / 1000.0))\n",
    "    hop_size = int(sample_rate * (hop_size_ms / 1000.0))\n",
    "    \n",
    "    # Apply a windowing function to each frame (e.g., Hamming window)\n",
    "    window = np.hamming(frame_size)\n",
    "    \n",
    "    # Initialize an array to hold the dominant frequencies for each frame\n",
    "    dominant_frequencies = []\n",
    "    \n",
    "    # Process each frame of the audio\n",
    "    for start in range(0, len(data) - frame_size + 1, hop_size):\n",
    "        frame = data[start:start+frame_size] * window\n",
    "        dominant_frequency = calculate_frame_dominant_frequency(frame, sample_rate)\n",
    "        dominant_frequencies.append(dominant_frequency)\n",
    "    \n",
    "    # Filter out very low frequencies (e.g., below 20 Hz) to exclude DC component or noise\n",
    "    dominant_frequencies = [freq for freq in dominant_frequencies if freq >= 20]\n",
    "    \n",
    "    # Calculate statistics\n",
    "    mean_freq = np.mean(dominant_frequencies)/1000\n",
    "    max_freq = np.max(dominant_frequencies)/1000\n",
    "    min_freq = np.min(dominant_frequencies)/1000\n",
    "    \n",
    "    return mean_freq, max_freq, min_freq\n",
    "\n",
    "# Example usage:\n",
    "wav_file_path = 'plaoutput.wav'\n",
    "mean_freq, max_freq, min_freq = calculate_dominant_frequencies_stats(wav_file_path)\n",
    "print(f\"Mean Dominant Frequency: {mean_freq} kHz\")\n",
    "print(f\"Max Dominant Frequency: {max_freq} kHz\")\n",
    "print(f\"Min Dominant Frequency: {min_freq} kHz\")\n"
   ]
  }
 ],
 "metadata": {
  "kernelspec": {
   "display_name": "Python 3",
   "language": "python",
   "name": "python3"
  },
  "language_info": {
   "codemirror_mode": {
    "name": "ipython",
    "version": 3
   },
   "file_extension": ".py",
   "mimetype": "text/x-python",
   "name": "python",
   "nbconvert_exporter": "python",
   "pygments_lexer": "ipython3",
   "version": "3.12.2"
  }
 },
 "nbformat": 4,
 "nbformat_minor": 2
}
